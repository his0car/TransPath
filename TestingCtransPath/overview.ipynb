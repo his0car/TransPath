{
 "cells": [
  {
   "cell_type": "markdown",
   "metadata": {},
   "source": [
    "#### Testing how to extract features with CTransPath"
   ]
  },
  {
   "cell_type": "markdown",
   "metadata": {},
   "source": [
    "First we figure out all packages that we need to install"
   ]
  },
  {
   "cell_type": "code",
   "execution_count": null,
   "metadata": {},
   "outputs": [],
   "source": [
    "%pip install timm==0.5.4 scipy ml_collections pandas"
   ]
  },
  {
   "cell_type": "code",
   "execution_count": 17,
   "metadata": {},
   "outputs": [
    {
     "name": "stdout",
     "output_type": "stream",
     "text": [
      "Looking in indexes: https://download.pytorch.org/whl/cu118Note: you may need to restart the kernel to use updated packages.\n",
      "\n",
      "Requirement already satisfied: torch in c:\\users\\pasca\\desktop\\vs_repos\\transpath\\ctranspath_venv\\lib\\site-packages (2.3.1)\n",
      "Requirement already satisfied: torchvision in c:\\users\\pasca\\desktop\\vs_repos\\transpath\\ctranspath_venv\\lib\\site-packages (0.18.1)\n",
      "Collecting torchaudio\n",
      "  Using cached https://download.pytorch.org/whl/cu118/torchaudio-2.3.1%2Bcu118-cp311-cp311-win_amd64.whl (4.0 MB)\n",
      "Requirement already satisfied: filelock in c:\\users\\pasca\\desktop\\vs_repos\\transpath\\ctranspath_venv\\lib\\site-packages (from torch) (3.15.4)\n",
      "Requirement already satisfied: typing-extensions>=4.8.0 in c:\\users\\pasca\\desktop\\vs_repos\\transpath\\ctranspath_venv\\lib\\site-packages (from torch) (4.12.2)\n",
      "Requirement already satisfied: sympy in c:\\users\\pasca\\desktop\\vs_repos\\transpath\\ctranspath_venv\\lib\\site-packages (from torch) (1.12.1)\n",
      "Requirement already satisfied: networkx in c:\\users\\pasca\\desktop\\vs_repos\\transpath\\ctranspath_venv\\lib\\site-packages (from torch) (3.3)\n",
      "Requirement already satisfied: jinja2 in c:\\users\\pasca\\desktop\\vs_repos\\transpath\\ctranspath_venv\\lib\\site-packages (from torch) (3.1.4)\n",
      "Requirement already satisfied: fsspec in c:\\users\\pasca\\desktop\\vs_repos\\transpath\\ctranspath_venv\\lib\\site-packages (from torch) (2024.6.1)\n",
      "Requirement already satisfied: mkl<=2021.4.0,>=2021.1.1 in c:\\users\\pasca\\desktop\\vs_repos\\transpath\\ctranspath_venv\\lib\\site-packages (from torch) (2021.4.0)\n",
      "Requirement already satisfied: numpy in c:\\users\\pasca\\desktop\\vs_repos\\transpath\\ctranspath_venv\\lib\\site-packages (from torchvision) (1.26.4)\n",
      "Requirement already satisfied: pillow!=8.3.*,>=5.3.0 in c:\\users\\pasca\\desktop\\vs_repos\\transpath\\ctranspath_venv\\lib\\site-packages (from torchvision) (10.3.0)\n",
      "Collecting torch\n",
      "  Using cached https://download.pytorch.org/whl/cu118/torch-2.3.1%2Bcu118-cp311-cp311-win_amd64.whl (2673.0 MB)\n",
      "Requirement already satisfied: intel-openmp==2021.* in c:\\users\\pasca\\desktop\\vs_repos\\transpath\\ctranspath_venv\\lib\\site-packages (from mkl<=2021.4.0,>=2021.1.1->torch) (2021.4.0)\n",
      "Requirement already satisfied: tbb==2021.* in c:\\users\\pasca\\desktop\\vs_repos\\transpath\\ctranspath_venv\\lib\\site-packages (from mkl<=2021.4.0,>=2021.1.1->torch) (2021.13.0)\n",
      "Requirement already satisfied: MarkupSafe>=2.0 in c:\\users\\pasca\\desktop\\vs_repos\\transpath\\ctranspath_venv\\lib\\site-packages (from jinja2->torch) (2.1.5)\n",
      "Requirement already satisfied: mpmath<1.4.0,>=1.1.0 in c:\\users\\pasca\\desktop\\vs_repos\\transpath\\ctranspath_venv\\lib\\site-packages (from sympy->torch) (1.3.0)\n",
      "Installing collected packages: torch, torchaudio\n",
      "  Attempting uninstall: torch\n",
      "    Found existing installation: torch 2.3.1\n",
      "    Uninstalling torch-2.3.1:\n",
      "      Successfully uninstalled torch-2.3.1\n",
      "Successfully installed torch-2.3.1+cu118 torchaudio-2.3.1+cu118\n"
     ]
    },
    {
     "name": "stderr",
     "output_type": "stream",
     "text": [
      "\n",
      "[notice] A new release of pip is available: 24.0 -> 24.1.1\n",
      "[notice] To update, run: python.exe -m pip install --upgrade pip\n"
     ]
    }
   ],
   "source": [
    "%pip install torch torchvision torchaudio --index-url https://download.pytorch.org/whl/cu118"
   ]
  },
  {
   "cell_type": "code",
   "execution_count": 23,
   "metadata": {},
   "outputs": [
    {
     "name": "stdout",
     "output_type": "stream",
     "text": [
      "Sequential(\n",
      "  (0): Linear(in_features=768, out_features=4096, bias=True)\n",
      "  (1): BatchNorm1d(4096, eps=1e-05, momentum=0.1, affine=True, track_running_stats=True)\n",
      "  (2): ReLU(inplace=True)\n",
      "  (3): Linear(in_features=4096, out_features=256, bias=True)\n",
      ")\n",
      "Sequential(\n",
      "  (0): Linear(in_features=768, out_features=4096, bias=True)\n",
      "  (1): BatchNorm1d(4096, eps=1e-05, momentum=0.1, affine=True, track_running_stats=True)\n",
      "  (2): ReLU(inplace=True)\n",
      "  (3): Linear(in_features=4096, out_features=256, bias=True)\n",
      ")\n",
      "Sequential(\n",
      "  (0): Linear(in_features=768, out_features=4096, bias=True)\n",
      "  (1): BatchNorm1d(4096, eps=1e-05, momentum=0.1, affine=True, track_running_stats=True)\n",
      "  (2): ReLU(inplace=True)\n",
      "  (3): Linear(in_features=4096, out_features=256, bias=True)\n",
      ")\n"
     ]
    }
   ],
   "source": [
    "!python ../get_feature_transpath.py"
   ]
  }
 ],
 "metadata": {
  "kernelspec": {
   "display_name": "ctranspath_venv",
   "language": "python",
   "name": "python3"
  },
  "language_info": {
   "codemirror_mode": {
    "name": "ipython",
    "version": 3
   },
   "file_extension": ".py",
   "mimetype": "text/x-python",
   "name": "python",
   "nbconvert_exporter": "python",
   "pygments_lexer": "ipython3",
   "version": "3.11.9"
  }
 },
 "nbformat": 4,
 "nbformat_minor": 2
}
